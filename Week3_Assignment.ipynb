{
 "cells": [
  {
   "cell_type": "code",
   "execution_count": 4,
   "metadata": {},
   "outputs": [
    {
     "name": "stdout",
     "output_type": "stream",
     "text": [
      "Collecting lxml\n",
      "\u001b[?25l  Downloading https://files.pythonhosted.org/packages/ec/be/5ab8abdd8663c0386ec2dd595a5bc0e23330a0549b8a91e32f38c20845b6/lxml-4.4.1-cp36-cp36m-manylinux1_x86_64.whl (5.8MB)\n",
      "\u001b[K     |████████████████████████████████| 5.8MB 25.8MB/s eta 0:00:01\n",
      "\u001b[?25hInstalling collected packages: lxml\n",
      "Successfully installed lxml-4.4.1\n",
      "Requirement already satisfied: html5lib in /home/jupyterlab/conda/envs/python/lib/python3.6/site-packages (0.9999999)\n",
      "Requirement already satisfied: six in /home/jupyterlab/conda/envs/python/lib/python3.6/site-packages (from html5lib) (1.12.0)\n",
      "Collecting BeautifulSoup4\n",
      "\u001b[?25l  Downloading https://files.pythonhosted.org/packages/1a/b7/34eec2fe5a49718944e215fde81288eec1fa04638aa3fb57c1c6cd0f98c3/beautifulsoup4-4.8.0-py3-none-any.whl (97kB)\n",
      "\u001b[K     |████████████████████████████████| 102kB 18.4MB/s ta 0:00:01\n",
      "\u001b[?25hCollecting soupsieve>=1.2 (from BeautifulSoup4)\n",
      "  Downloading https://files.pythonhosted.org/packages/0b/44/0474f2207fdd601bb25787671c81076333d2c80e6f97e92790f8887cf682/soupsieve-1.9.3-py2.py3-none-any.whl\n",
      "Installing collected packages: soupsieve, BeautifulSoup4\n",
      "Successfully installed BeautifulSoup4-4.8.0 soupsieve-1.9.3\n",
      "Collecting tabulate\n",
      "\u001b[?25l  Downloading https://files.pythonhosted.org/packages/66/d4/977fdd5186b7cdbb7c43a7aac7c5e4e0337a84cb802e154616f3cfc84563/tabulate-0.8.5.tar.gz (45kB)\n",
      "\u001b[K     |████████████████████████████████| 51kB 12.1MB/s eta 0:00:01\n",
      "\u001b[?25hBuilding wheels for collected packages: tabulate\n",
      "  Building wheel for tabulate (setup.py) ... \u001b[?25ldone\n",
      "\u001b[?25h  Stored in directory: /home/jupyterlab/.cache/pip/wheels/e1/41/5e/e201f95d90fc84f93aa629b6638adacda680fe63aac47174ab\n",
      "Successfully built tabulate\n",
      "Installing collected packages: tabulate\n",
      "Successfully installed tabulate-0.8.5\n"
     ]
    }
   ],
   "source": [
    "! pip install lxml\n",
    "! pip install html5lib\n",
    "! pip install BeautifulSoup4\n",
    "! pip install tabulate"
   ]
  },
  {
   "cell_type": "code",
   "execution_count": 5,
   "metadata": {},
   "outputs": [],
   "source": [
    "from bs4 import BeautifulSoup\n",
    "from tabulate import tabulate\n",
    "import pandas as pd\n",
    "import requests"
   ]
  },
  {
   "cell_type": "markdown",
   "metadata": {},
   "source": [
    "#### Read data"
   ]
  },
  {
   "cell_type": "code",
   "execution_count": 43,
   "metadata": {},
   "outputs": [
    {
     "data": {
      "text/html": [
       "<div>\n",
       "<style scoped>\n",
       "    .dataframe tbody tr th:only-of-type {\n",
       "        vertical-align: middle;\n",
       "    }\n",
       "\n",
       "    .dataframe tbody tr th {\n",
       "        vertical-align: top;\n",
       "    }\n",
       "\n",
       "    .dataframe thead th {\n",
       "        text-align: right;\n",
       "    }\n",
       "</style>\n",
       "<table border=\"1\" class=\"dataframe\">\n",
       "  <thead>\n",
       "    <tr style=\"text-align: right;\">\n",
       "      <th></th>\n",
       "      <th>Postcode</th>\n",
       "      <th>Borough</th>\n",
       "      <th>Neighbourhood</th>\n",
       "    </tr>\n",
       "  </thead>\n",
       "  <tbody>\n",
       "    <tr>\n",
       "      <td>0</td>\n",
       "      <td>M1A</td>\n",
       "      <td>Not assigned</td>\n",
       "      <td>Not assigned</td>\n",
       "    </tr>\n",
       "    <tr>\n",
       "      <td>1</td>\n",
       "      <td>M2A</td>\n",
       "      <td>Not assigned</td>\n",
       "      <td>Not assigned</td>\n",
       "    </tr>\n",
       "    <tr>\n",
       "      <td>2</td>\n",
       "      <td>M3A</td>\n",
       "      <td>North York</td>\n",
       "      <td>Parkwoods</td>\n",
       "    </tr>\n",
       "    <tr>\n",
       "      <td>3</td>\n",
       "      <td>M4A</td>\n",
       "      <td>North York</td>\n",
       "      <td>Victoria Village</td>\n",
       "    </tr>\n",
       "    <tr>\n",
       "      <td>4</td>\n",
       "      <td>M5A</td>\n",
       "      <td>Downtown Toronto</td>\n",
       "      <td>Harbourfront</td>\n",
       "    </tr>\n",
       "  </tbody>\n",
       "</table>\n",
       "</div>"
      ],
      "text/plain": [
       "  Postcode           Borough     Neighbourhood\n",
       "0      M1A      Not assigned      Not assigned\n",
       "1      M2A      Not assigned      Not assigned\n",
       "2      M3A        North York         Parkwoods\n",
       "3      M4A        North York  Victoria Village\n",
       "4      M5A  Downtown Toronto      Harbourfront"
      ]
     },
     "execution_count": 43,
     "metadata": {},
     "output_type": "execute_result"
    }
   ],
   "source": [
    "res = requests.get(\"https://en.wikipedia.org/wiki/List_of_postal_codes_of_Canada:_M\")\n",
    "soup = BeautifulSoup(res.content,'lxml')\n",
    "table = soup.find_all('table')[0] \n",
    "df = pd.read_html(str(table))\n",
    "df = pd.DataFrame(df[0])\n",
    "df.head()"
   ]
  },
  {
   "cell_type": "markdown",
   "metadata": {},
   "source": [
    "#### Remove rows with Borough = \"Not assigned\""
   ]
  },
  {
   "cell_type": "code",
   "execution_count": 53,
   "metadata": {},
   "outputs": [
    {
     "data": {
      "text/plain": [
       "(211, 3)"
      ]
     },
     "execution_count": 53,
     "metadata": {},
     "output_type": "execute_result"
    }
   ],
   "source": [
    "df = df[df['Borough'] != 'Not assigned' ]\n",
    "df.head()\n",
    "df.shape"
   ]
  },
  {
   "cell_type": "markdown",
   "metadata": {},
   "source": [
    "#### Aggregate the data by Postcode & Borough"
   ]
  },
  {
   "cell_type": "code",
   "execution_count": 62,
   "metadata": {},
   "outputs": [
    {
     "data": {
      "text/html": [
       "<div>\n",
       "<style scoped>\n",
       "    .dataframe tbody tr th:only-of-type {\n",
       "        vertical-align: middle;\n",
       "    }\n",
       "\n",
       "    .dataframe tbody tr th {\n",
       "        vertical-align: top;\n",
       "    }\n",
       "\n",
       "    .dataframe thead th {\n",
       "        text-align: right;\n",
       "    }\n",
       "</style>\n",
       "<table border=\"1\" class=\"dataframe\">\n",
       "  <thead>\n",
       "    <tr style=\"text-align: right;\">\n",
       "      <th></th>\n",
       "      <th>Postcode</th>\n",
       "      <th>Borough</th>\n",
       "      <th>Neighbourhood</th>\n",
       "    </tr>\n",
       "  </thead>\n",
       "  <tbody>\n",
       "    <tr>\n",
       "      <td>0</td>\n",
       "      <td>M1B</td>\n",
       "      <td>Scarborough</td>\n",
       "      <td>Rouge, Malvern</td>\n",
       "    </tr>\n",
       "    <tr>\n",
       "      <td>1</td>\n",
       "      <td>M1C</td>\n",
       "      <td>Scarborough</td>\n",
       "      <td>Highland Creek, Rouge Hill, Port Union</td>\n",
       "    </tr>\n",
       "    <tr>\n",
       "      <td>2</td>\n",
       "      <td>M1E</td>\n",
       "      <td>Scarborough</td>\n",
       "      <td>Guildwood, Morningside, West Hill</td>\n",
       "    </tr>\n",
       "    <tr>\n",
       "      <td>3</td>\n",
       "      <td>M1G</td>\n",
       "      <td>Scarborough</td>\n",
       "      <td>Woburn</td>\n",
       "    </tr>\n",
       "    <tr>\n",
       "      <td>4</td>\n",
       "      <td>M1H</td>\n",
       "      <td>Scarborough</td>\n",
       "      <td>Cedarbrae</td>\n",
       "    </tr>\n",
       "    <tr>\n",
       "      <td>...</td>\n",
       "      <td>...</td>\n",
       "      <td>...</td>\n",
       "      <td>...</td>\n",
       "    </tr>\n",
       "    <tr>\n",
       "      <td>98</td>\n",
       "      <td>M9N</td>\n",
       "      <td>York</td>\n",
       "      <td>Weston</td>\n",
       "    </tr>\n",
       "    <tr>\n",
       "      <td>99</td>\n",
       "      <td>M9P</td>\n",
       "      <td>Etobicoke</td>\n",
       "      <td>Westmount</td>\n",
       "    </tr>\n",
       "    <tr>\n",
       "      <td>100</td>\n",
       "      <td>M9R</td>\n",
       "      <td>Etobicoke</td>\n",
       "      <td>Kingsview Village, Martin Grove Gardens, Richv...</td>\n",
       "    </tr>\n",
       "    <tr>\n",
       "      <td>101</td>\n",
       "      <td>M9V</td>\n",
       "      <td>Etobicoke</td>\n",
       "      <td>Albion Gardens, Beaumond Heights, Humbergate, ...</td>\n",
       "    </tr>\n",
       "    <tr>\n",
       "      <td>102</td>\n",
       "      <td>M9W</td>\n",
       "      <td>Etobicoke</td>\n",
       "      <td>Northwest</td>\n",
       "    </tr>\n",
       "  </tbody>\n",
       "</table>\n",
       "<p>103 rows × 3 columns</p>\n",
       "</div>"
      ],
      "text/plain": [
       "    Postcode      Borough                                      Neighbourhood\n",
       "0        M1B  Scarborough                                     Rouge, Malvern\n",
       "1        M1C  Scarborough             Highland Creek, Rouge Hill, Port Union\n",
       "2        M1E  Scarborough                  Guildwood, Morningside, West Hill\n",
       "3        M1G  Scarborough                                             Woburn\n",
       "4        M1H  Scarborough                                          Cedarbrae\n",
       "..       ...          ...                                                ...\n",
       "98       M9N         York                                             Weston\n",
       "99       M9P    Etobicoke                                          Westmount\n",
       "100      M9R    Etobicoke  Kingsview Village, Martin Grove Gardens, Richv...\n",
       "101      M9V    Etobicoke  Albion Gardens, Beaumond Heights, Humbergate, ...\n",
       "102      M9W    Etobicoke                                          Northwest\n",
       "\n",
       "[103 rows x 3 columns]"
      ]
     },
     "execution_count": 62,
     "metadata": {},
     "output_type": "execute_result"
    }
   ],
   "source": [
    "g_df = df.groupby(['Postcode', 'Borough'], as_index=False).agg(lambda col: ', '.join(col))\n",
    "g_df\n"
   ]
  },
  {
   "cell_type": "markdown",
   "metadata": {},
   "source": [
    "#### Assign Borough to Neighbourhood if not assigned"
   ]
  },
  {
   "cell_type": "code",
   "execution_count": 99,
   "metadata": {},
   "outputs": [],
   "source": [
    "df_final = g_df\n",
    "num = df_final.shape[0]\n",
    "Nghb = [None] * num\n",
    "\n",
    "for i in range(0, num):\n",
    "    if df_final.loc[i, 'Neighbourhood']== 'Not assigned':\n",
    "        Nghb[i]=df_final.loc[i, 'Borough']\n",
    "    else:\n",
    "        Nghb[i]=df_final.loc[i, 'Neighbourhood']\n",
    "df_final['Neighbourhood'] = Nghb\n"
   ]
  },
  {
   "cell_type": "markdown",
   "metadata": {},
   "source": [
    "#### Check the final table"
   ]
  },
  {
   "cell_type": "code",
   "execution_count": 102,
   "metadata": {},
   "outputs": [
    {
     "data": {
      "text/plain": [
       "(103, 3)"
      ]
     },
     "execution_count": 102,
     "metadata": {},
     "output_type": "execute_result"
    }
   ],
   "source": [
    "df_final.shape"
   ]
  },
  {
   "cell_type": "code",
   "execution_count": 101,
   "metadata": {},
   "outputs": [
    {
     "name": "stdout",
     "output_type": "stream",
     "text": [
      "    Postcode           Borough                                      Neighbourhood\n",
      "0        M1B       Scarborough                                     Rouge, Malvern\n",
      "1        M1C       Scarborough             Highland Creek, Rouge Hill, Port Union\n",
      "2        M1E       Scarborough                  Guildwood, Morningside, West Hill\n",
      "3        M1G       Scarborough                                             Woburn\n",
      "4        M1H       Scarborough                                          Cedarbrae\n",
      "5        M1J       Scarborough                                Scarborough Village\n",
      "6        M1K       Scarborough        East Birchmount Park, Ionview, Kennedy Park\n",
      "7        M1L       Scarborough                    Clairlea, Golden Mile, Oakridge\n",
      "8        M1M       Scarborough    Cliffcrest, Cliffside, Scarborough Village West\n",
      "9        M1N       Scarborough                        Birch Cliff, Cliffside West\n",
      "10       M1P       Scarborough  Dorset Park, Scarborough Town Centre, Wexford ...\n",
      "11       M1R       Scarborough                                  Maryvale, Wexford\n",
      "12       M1S       Scarborough                                          Agincourt\n",
      "13       M1T       Scarborough            Clarks Corners, Sullivan, Tam O'Shanter\n",
      "14       M1V       Scarborough  Agincourt North, L'Amoreaux East, Milliken, St...\n",
      "15       M1W       Scarborough                                    L'Amoreaux West\n",
      "16       M1X       Scarborough                                        Upper Rouge\n",
      "17       M2H        North York                                  Hillcrest Village\n",
      "18       M2J        North York                       Fairview, Henry Farm, Oriole\n",
      "19       M2K        North York                                    Bayview Village\n",
      "20       M2L        North York                           Silver Hills, York Mills\n",
      "21       M2M        North York                            Newtonbrook, Willowdale\n",
      "22       M2N        North York                                   Willowdale South\n",
      "23       M2P        North York                                    York Mills West\n",
      "24       M2R        North York                                    Willowdale West\n",
      "25       M3A        North York                                          Parkwoods\n",
      "26       M3B        North York                                    Don Mills North\n",
      "27       M3C        North York                   Flemingdon Park, Don Mills South\n",
      "28       M3H        North York    Bathurst Manor, Downsview North, Wilson Heights\n",
      "29       M3J        North York                    Northwood Park, York University\n",
      "30       M3K        North York                        CFB Toronto, Downsview East\n",
      "31       M3L        North York                                     Downsview West\n",
      "32       M3M        North York                                  Downsview Central\n",
      "33       M3N        North York                                Downsview Northwest\n",
      "34       M4A        North York                                   Victoria Village\n",
      "35       M4B         East York                    Woodbine Gardens, Parkview Hill\n",
      "36       M4C         East York                                   Woodbine Heights\n",
      "37       M4E      East Toronto                                        The Beaches\n",
      "38       M4G         East York                                            Leaside\n",
      "39       M4H         East York                                   Thorncliffe Park\n",
      "40       M4J         East York                                       East Toronto\n",
      "41       M4K      East Toronto                       The Danforth West, Riverdale\n",
      "42       M4L      East Toronto                     The Beaches West, India Bazaar\n",
      "43       M4M      East Toronto                                    Studio District\n",
      "44       M4N   Central Toronto                                      Lawrence Park\n",
      "45       M4P   Central Toronto                                   Davisville North\n",
      "46       M4R   Central Toronto                                 North Toronto West\n",
      "47       M4S   Central Toronto                                         Davisville\n",
      "48       M4T   Central Toronto                        Moore Park, Summerhill East\n",
      "49       M4V   Central Toronto  Deer Park, Forest Hill SE, Rathnelly, South Hi...\n",
      "50       M4W  Downtown Toronto                                           Rosedale\n",
      "51       M4X  Downtown Toronto                        Cabbagetown, St. James Town\n",
      "52       M4Y  Downtown Toronto                               Church and Wellesley\n",
      "53       M5A  Downtown Toronto                          Harbourfront, Regent Park\n",
      "54       M5B  Downtown Toronto                           Ryerson, Garden District\n",
      "55       M5C  Downtown Toronto                                     St. James Town\n",
      "56       M5E  Downtown Toronto                                        Berczy Park\n",
      "57       M5G  Downtown Toronto                                 Central Bay Street\n",
      "58       M5H  Downtown Toronto                           Adelaide, King, Richmond\n",
      "59       M5J  Downtown Toronto  Harbourfront East, Toronto Islands, Union Station\n",
      "60       M5K  Downtown Toronto           Design Exchange, Toronto Dominion Centre\n",
      "61       M5L  Downtown Toronto                     Commerce Court, Victoria Hotel\n",
      "62       M5M        North York                  Bedford Park, Lawrence Manor East\n",
      "63       M5N   Central Toronto                                           Roselawn\n",
      "64       M5P   Central Toronto                Forest Hill North, Forest Hill West\n",
      "65       M5R   Central Toronto                The Annex, North Midtown, Yorkville\n",
      "66       M5S  Downtown Toronto                     Harbord, University of Toronto\n",
      "67       M5T  Downtown Toronto          Chinatown, Grange Park, Kensington Market\n",
      "68       M5V  Downtown Toronto  CN Tower, Bathurst Quay, Island airport, Harbo...\n",
      "69       M5W  Downtown Toronto                    Stn A PO Boxes 25 The Esplanade\n",
      "70       M5X  Downtown Toronto             First Canadian Place, Underground city\n",
      "71       M6A        North York                   Lawrence Heights, Lawrence Manor\n",
      "72       M6B        North York                                          Glencairn\n",
      "73       M6C              York                                 Humewood-Cedarvale\n",
      "74       M6E              York                                Caledonia-Fairbanks\n",
      "75       M6G  Downtown Toronto                                           Christie\n",
      "76       M6H      West Toronto                       Dovercourt Village, Dufferin\n",
      "77       M6J      West Toronto                           Little Portugal, Trinity\n",
      "78       M6K      West Toronto       Brockton, Exhibition Place, Parkdale Village\n",
      "79       M6L        North York                 Downsview, North Park, Upwood Park\n",
      "80       M6M              York     Del Ray, Keelesdale, Mount Dennis, Silverthorn\n",
      "81       M6N              York                      The Junction North, Runnymede\n",
      "82       M6P      West Toronto                      High Park, The Junction South\n",
      "83       M6R      West Toronto                             Parkdale, Roncesvalles\n",
      "84       M6S      West Toronto                                 Runnymede, Swansea\n",
      "85       M7A      Queen's Park                                       Queen's Park\n",
      "86       M7R       Mississauga              Canada Post Gateway Processing Centre\n",
      "87       M7Y      East Toronto  Business Reply Mail Processing Centre 969 Eastern\n",
      "88       M8V         Etobicoke       Humber Bay Shores, Mimico South, New Toronto\n",
      "89       M8W         Etobicoke                             Alderwood, Long Branch\n",
      "90       M8X         Etobicoke      The Kingsway, Montgomery Road, Old Mill North\n",
      "91       M8Y         Etobicoke  Humber Bay, King's Mill Park, Kingsway Park So...\n",
      "92       M8Z         Etobicoke  Kingsway Park South West, Mimico NW, The Queen...\n",
      "93       M9A         Etobicoke                                   Islington Avenue\n",
      "94       M9B         Etobicoke  Cloverdale, Islington, Martin Grove, Princess ...\n",
      "95       M9C         Etobicoke  Bloordale Gardens, Eringate, Markland Wood, Ol...\n",
      "96       M9L        North York                                      Humber Summit\n",
      "97       M9M        North York                                   Emery, Humberlea\n",
      "98       M9N              York                                             Weston\n",
      "99       M9P         Etobicoke                                          Westmount\n",
      "100      M9R         Etobicoke  Kingsview Village, Martin Grove Gardens, Richv...\n",
      "101      M9V         Etobicoke  Albion Gardens, Beaumond Heights, Humbergate, ...\n",
      "102      M9W         Etobicoke                                          Northwest\n"
     ]
    }
   ],
   "source": [
    "print(df_final.to_string())"
   ]
  },
  {
   "cell_type": "code",
   "execution_count": null,
   "metadata": {},
   "outputs": [],
   "source": []
  }
 ],
 "metadata": {
  "kernelspec": {
   "display_name": "Python",
   "language": "python",
   "name": "conda-env-python-py"
  },
  "language_info": {
   "codemirror_mode": {
    "name": "ipython",
    "version": 3
   },
   "file_extension": ".py",
   "mimetype": "text/x-python",
   "name": "python",
   "nbconvert_exporter": "python",
   "pygments_lexer": "ipython3",
   "version": "3.6.7"
  }
 },
 "nbformat": 4,
 "nbformat_minor": 4
}
